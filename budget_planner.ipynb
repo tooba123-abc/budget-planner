{
 "cells": [
  {
   "cell_type": "code",
   "execution_count": null,
   "id": "a32f995e-0b01-4455-a8a9-a77991635d28",
   "metadata": {},
   "outputs": [],
   "source": [
    "def budget_planner():\n",
    "    \"Simple Budget Planner that calculates your savings and give money_saving tips\"\n",
    "\n",
    "name=input(\"Enter Your Name :\")\n",
    "income = float(input(\"Enter Your Monthly income:\"))\n",
    "Expenses= float(input(\"Entet Your Total Monthly expenses\"))\n",
    "\n",
    "savingS = income - expenses\n",
    "\n",
    "print(\"/nBudget Summary For\", name)\n",
    "print(\"Total Income:\",income)\n",
    "print(\"Total Expenses:\",Expenses)\n",
    "print(\"Total Saving:\",saving)\n",
    "\n",
    "if saving > income * 0.2:\n",
    "    print(\"Great Job! Yor are saving almost 20% of your income.Keep it up!\")\n",
    "elif saving > 0:\n",
    "    print(\"Good Job!Try to increase your saving by reducing unnecesary expenes,\")\n",
    "else:\n",
    "    print(\"You are spending more than you earn!Consider cutting back on non-essential expenses.\")\n",
    "\n",
    "print(\"/n Tip:Track your spending and set a monthly budget to manage your finances better!\")\n",
    "\n",
    "budget_planner()"
   ]
  },
  {
   "cell_type": "code",
   "execution_count": null,
   "id": "5e9cf268-4c5c-4636-a3ca-e3c7bc8da24d",
   "metadata": {},
   "outputs": [],
   "source": []
  }
 ],
 "metadata": {
  "kernelspec": {
   "display_name": "Python 3 (ipykernel)",
   "language": "python",
   "name": "python3"
  },
  "language_info": {
   "codemirror_mode": {
    "name": "ipython",
    "version": 3
   },
   "file_extension": ".py",
   "mimetype": "text/x-python",
   "name": "python",
   "nbconvert_exporter": "python",
   "pygments_lexer": "ipython3",
   "version": "3.12.7"
  }
 },
 "nbformat": 4,
 "nbformat_minor": 5
}
